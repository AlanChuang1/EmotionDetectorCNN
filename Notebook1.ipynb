{
  "cells": [
    {
      "cell_type": "markdown",
      "metadata": {
        "cell_id": "6b357449890243dcb34af9d5a30fcb87",
        "deepnote_cell_type": "text-cell-h1",
        "formattedRanges": [],
        "id": "2c4QutAq2dvR",
        "is_collapsed": false,
        "tags": []
      },
      "source": [
        "# Emoji Prediction - ECS 171 Group Project"
      ]
    },
    {
      "cell_type": "markdown",
      "metadata": {
        "cell_id": "1c8ba23095464eec80f359af2607595f",
        "deepnote_cell_type": "text-cell-h3",
        "formattedRanges": [],
        "id": "Lhu_MTr42dvW",
        "is_collapsed": false,
        "tags": []
      },
      "source": [
        "### Project Overview"
      ]
    },
    {
      "cell_type": "markdown",
      "metadata": {
        "cell_id": "d34226aef49a47b3b3b19798ae1eb11c",
        "deepnote_cell_type": "text-cell-p",
        "formattedRanges": [],
        "id": "jMWzAkL72dvX",
        "is_collapsed": false,
        "tags": []
      },
      "source": [
        "Emojis are widely used for modern communication, and offer a way to express emotions visually. Through computer vision and machine learning, the aim of our project is to be able to predict the emoji that best fits a given facial expression. Since there are many available emojis representing different emotions, to keep our project simple and achievable within the given time constraint, we are going to use just a few: Happy, Sad, and Neutral. If time permits, we will move onto more complex emotions: Angry, Disgust, Fear, and Surprise. Our approach is to use a Convolution Neural Network for facial recognition, and we are going to classify these expressions into a category of emotions. From there, we will simply output the emoji that matches that particular emotion. "
      ]
    },
    {
      "cell_type": "markdown",
      "metadata": {
        "cell_id": "cdc6283102a0457dbd03e778b7978a40",
        "deepnote_cell_type": "text-cell-h3",
        "formattedRanges": [],
        "id": "49Vt4Die2dvY",
        "is_collapsed": false,
        "tags": []
      },
      "source": [
        "### Description of Dataset"
      ]
    },
    {
      "cell_type": "markdown",
      "metadata": {
        "cell_id": "514aa47940f24c18b6d768564c259bfe",
        "deepnote_cell_type": "text-cell-p",
        "formattedRanges": [
          {
            "fromCodePoint": 38,
            "ranges": [],
            "toCodePoint": 42,
            "type": "link",
            "url": "https://www.kaggle.com/datasets/msambare/fer2013"
          }
        ],
        "id": "8aI8AOQF2dvY",
        "is_collapsed": false,
        "tags": []
      },
      "source": [
        "The dataset we are using can be found here. "
      ]
    },
    {
      "cell_type": "markdown",
      "metadata": {
        "cell_id": "66bf87a3-f17b-4e99-8c3c-8c2b8b3f68af",
        "deepnote_cell_type": "text-cell-p",
        "formattedRanges": [],
        "id": "LIoJ-SVQ2dvY",
        "is_collapsed": false,
        "tags": []
      },
      "source": [
        "There are 4,254 observations in the dataset, with 1774 happy observations, 1233 neutral observations, and 1247 sad observations. Each “observation”, or image file, is a 48x48 pixel sized grayscale image of expressions on faces. Sizes are all standardized to \n"
      ]
    },
    {
      "cell_type": "markdown",
      "metadata": {
        "cell_id": "8f05d551c64e4b5a9d13a6298120be71",
        "deepnote_cell_type": "text-cell-h3",
        "formattedRanges": [],
        "id": "INsiAi8O2dvq",
        "is_collapsed": false,
        "tags": []
      },
      "source": [
        "### Data Exploration"
      ]
    },
    {
      "cell_type": "markdown",
      "metadata": {
        "cell_id": "cb3d1bfd-63e3-4b9c-9c74-8dad07c7ec59",
        "deepnote_cell_type": "text-cell-p",
        "formattedRanges": [],
        "id": "VaV4Z3A12dvq",
        "is_collapsed": false,
        "tags": []
      },
      "source": [
        "First, we must explore the data."
      ]
    },
    {
      "cell_type": "markdown",
      "metadata": {
        "cell_id": "37badb3d-1e9a-4691-b4c8-cb42e48e5d5e",
        "deepnote_cell_type": "text-cell-p",
        "formattedRanges": [],
        "id": "Ys_Xl1Xp2dvq",
        "is_collapsed": false,
        "tags": []
      },
      "source": [
        "i.e. evaluate your data, # of observations, details about your data distributions, scales, missing data, column descriptions) Note: For image data you can still describe your data by the number of classes, # of images, size of images, are sizes standardized? do they need to be cropped? normalized? Etc.\n"
      ]
    },
    {
      "cell_type": "code",
      "execution_count": 1,
      "metadata": {
        "cell_id": "bbc67aedb7b34d7391f178980fbc7e50",
        "deepnote_cell_type": "code",
        "deepnote_to_be_reexecuted": false,
        "execution_millis": 575,
        "execution_start": 1668900413231,
        "id": "-2FmF_7Q2dvr",
        "source_hash": "24724ecb",
        "tags": []
      },
      "outputs": [],
      "source": [
        "# importing libraries\n",
        "import os\n",
        "import shutil\n",
        "import pandas as pd\n",
        "import numpy as np\n",
        "import matplotlib.pyplot as plt\n",
        "import tensorflow as tf\n",
        "from tensorflow.keras.utils import load_img\n",
        "\n",
        "from keras.preprocessing.image import ImageDataGenerator\n",
        "from keras.layers import MaxPool2D, Conv2D, Dense, BatchNormalization, Activation, Dropout, MaxPooling2D, Flatten\n",
        "from keras.utils import plot_model\n",
        "from tensorflow.keras.optimizers import Adam\n",
        "import keras.utils as image\n"
      ]
    },
    {
      "cell_type": "code",
      "execution_count": 2,
      "metadata": {
        "id": "V1xhie5h8oci"
      },
      "outputs": [],
      "source": [
        "! pip install -q kaggle"
      ]
    },
    {
      "cell_type": "code",
      "execution_count": 3,
      "metadata": {
        "id": "TukMdH1iFDkD"
      },
      "outputs": [],
      "source": [
        "! mkdir ~/.kaggle\n",
        "! cp kaggle.json ~/.kaggle/\n",
        "! chmod 600 ~/.kaggle/kaggle.json"
      ]
    },
    {
      "cell_type": "code",
      "execution_count": null,
      "metadata": {
        "id": "--GytEys9mUq"
      },
      "outputs": [],
      "source": [
        "! kaggle datasets download -d msambare/fer2013"
      ]
    },
    {
      "cell_type": "code",
      "execution_count": null,
      "metadata": {
        "id": "FjcKWWoO-qL4"
      },
      "outputs": [],
      "source": [
        "! unzip fer2013.zip;"
      ]
    },
    {
      "cell_type": "markdown",
      "metadata": {
        "id": "B5eRNiZ5_Tkr"
      },
      "source": [
        "# Data Evaluation\n",
        "\n",
        "Goes through the dataset and describes data by defining number of classes, # of images, and size of images. \n"
      ]
    },
    {
      "cell_type": "code",
      "execution_count": 6,
      "metadata": {
        "cell_id": "3a459ac3a0344b11860f26f8245dd62e",
        "colab": {
          "base_uri": "https://localhost:8080/"
        },
        "deepnote_cell_type": "code",
        "deepnote_to_be_reexecuted": false,
        "execution_millis": 662,
        "execution_start": 1668900459530,
        "id": "iKNIfvSG2dvr",
        "outputId": "0edca4e4-59fb-4d2d-d768-06d59e8609d8",
        "source_hash": "1d80c8cb",
        "tags": []
      },
      "outputs": [
        {
          "output_type": "stream",
          "name": "stdout",
          "text": [
            "       disgust  happy   sad  surprise  neutral  angry  fear\n",
            "train      436   7215  4830      3171     4965   3995  4097\n",
            "      disgust  happy   sad  surprise  neutral  angry  fear\n",
            "test      111   1774  1247       831     1233    958  1024\n"
          ]
        }
      ],
      "source": [
        "train_dir = './train/'\n",
        "test_dir = './test/'\n",
        "\n",
        "# image size\n",
        "row, col = 48, 48\n",
        "# number of image classes: angry, sad, etc\n",
        "classes = 7\n",
        "\n",
        "def count_exp(path, set_):\n",
        "    dict_ = {}\n",
        "    for expression in os.listdir(path):\n",
        "        dir_ = path + expression\n",
        "        dict_[expression] = len(os.listdir(dir_))\n",
        "    df = pd.DataFrame(dict_, index=[set_])\n",
        "    return df\n",
        "\n",
        "# number of observations\n",
        "train_count = count_exp(train_dir, 'train')\n",
        "test_count = count_exp(test_dir, 'test')\n",
        "print(train_count)\n",
        "print(test_count)"
      ]
    },
    {
      "cell_type": "code",
      "execution_count": 7,
      "metadata": {
        "cell_id": "3a9f660d16614a7a83c57e0eda591c99",
        "colab": {
          "base_uri": "https://localhost:8080/",
          "height": 747
        },
        "deepnote_cell_type": "code",
        "deepnote_to_be_reexecuted": false,
        "execution_millis": 668,
        "execution_start": 1668900645054,
        "id": "_bSTQO3K2dvt",
        "outputId": "e8dab02b-c569-4e3c-ecc1-68119f9f2618",
        "source_hash": "822b26cc",
        "tags": []
      },
      "outputs": [
        {
          "output_type": "display_data",
          "data": {
            "text/plain": [
              "<Figure size 864x720 with 1 Axes>"
            ],
            "image/png": "[encoded data removed]"
          },
          "metadata": {
            "needs_background": "light"
          }
        },
        {
          "output_type": "display_data",
          "data": {
            "text/plain": [
              "<Figure size 1008x1584 with 7 Axes>"
            ],
            "image/png": "[encoded data removed]"
          },
          "metadata": {
            "needs_background": "light"
          }
        }
      ],
      "source": [
        "test_count.transpose().plot(kind='bar',figsize=(12, 10))\n",
        "\n",
        "plt.figure(figsize=(14,22))\n",
        "i = 1\n",
        "for expression in os.listdir(train_dir):\n",
        "    img = load_img((train_dir + expression +'/'+ os.listdir(train_dir + expression)[1]))\n",
        "    plt.subplot(1,7,i)\n",
        "    plt.imshow(img)\n",
        "    plt.title(expression)\n",
        "    plt.axis('off')\n",
        "    i += 1\n",
        "plt.show()"
      ]
    },
    {
      "cell_type": "markdown",
      "metadata": {
        "id": "6m-W4BiqDNEm"
      },
      "source": [
        "# Data Preprocessing\n",
        "\n"
      ]
    },
    {
      "cell_type": "code",
      "execution_count": 8,
      "metadata": {
        "id": "0UsuGlG1J3V4"
      },
      "outputs": [],
      "source": [
        "shutil.rmtree( './train/disgust')\n",
        "shutil.rmtree( './test/disgust')\n"
      ]
    },
    {
      "cell_type": "code",
      "execution_count": 21,
      "metadata": {
        "colab": {
          "base_uri": "https://localhost:8080/"
        },
        "id": "IrayM7A4J6hc",
        "outputId": "bcc3ff2e-a59b-4833-9535-cc84815255d1"
      },
      "outputs": [
        {
          "output_type": "stream",
          "name": "stdout",
          "text": [
            "4039\n"
          ]
        }
      ],
      "source": [
        "# train dataset\n",
        "images = []\n",
        "labels = []\n",
        "for subset in os.listdir(train_dir):\n",
        "  image_list = os.listdir(os.path.join(train_dir,subset))  # all the names of images in the directory\n",
        "  image_list = list(map(lambda x:os.path.join(subset,x),image_list))\n",
        "  images.extend(image_list)\n",
        "  labels.extend([subset]*len(image_list)) \n",
        "\n",
        "df = pd.DataFrame({\"Images\":images,\"Labels\":labels})      \n",
        "df = df.sample(frac=1).reset_index(drop=True) # this will shuffle the data\n",
        "samplesize = int(int(df.size)/14)  # sample size used for modelling \n",
        "print(samplesize)\n",
        "df_train = df.head(samplesize)  "
      ]
    },
    {
      "cell_type": "code",
      "execution_count": 10,
      "metadata": {
        "id": "8nrrB8fDLvHf"
      },
      "outputs": [],
      "source": [
        "datagen=ImageDataGenerator(rescale=1./255.,validation_split=0.25)"
      ]
    },
    {
      "cell_type": "code",
      "execution_count": 15,
      "metadata": {
        "colab": {
          "base_uri": "https://localhost:8080/"
        },
        "id": "1RdugxVf_C7W",
        "outputId": "fc88ff60-8e5f-4280-ae4b-837dd2cbe276"
      },
      "outputs": [
        {
          "output_type": "stream",
          "name": "stdout",
          "text": [
            "Found 3030 validated image filenames belonging to 6 classes.\n",
            "Found 1009 validated image filenames belonging to 6 classes.\n"
          ]
        }
      ],
      "source": [
        "train_generator = datagen.flow_from_dataframe(\n",
        "    directory = train_dir, \n",
        "    dataframe=df_train,\n",
        "    x_col=\"Images\",\n",
        "    y_col=\"Labels\",\n",
        "    subset=\"training\",\n",
        "    batch_size=32,\n",
        "    seed=42,\n",
        "    shuffle=True,\n",
        "    target_size=(48,48), \n",
        "    class_mode=\"categorical\", \n",
        "    color_mode=\"grayscale\"\n",
        ")\n",
        "\n",
        "valid_generator=datagen.flow_from_dataframe(\n",
        "    dataframe=df_train,\n",
        "    directory=train_dir,\n",
        "    x_col=\"Images\",\n",
        "    y_col=\"Labels\",\n",
        "    subset=\"validation\",\n",
        "    color_mode=\"grayscale\",\n",
        "    batch_size=32,\n",
        "    seed=42,\n",
        "    shuffle=True,\n",
        "    class_mode=\"categorical\",\n",
        "    target_size=(48,48)\n",
        ")"
      ]
    },
    {
      "cell_type": "code",
      "execution_count": 16,
      "metadata": {
        "colab": {
          "base_uri": "https://localhost:8080/"
        },
        "id": "GPlE3RzlKDLL",
        "outputId": "11d7b4a7-2631-4733-c366-316c6f02ce53"
      },
      "outputs": [
        {
          "output_type": "stream",
          "name": "stdout",
          "text": [
            "1009\n"
          ]
        }
      ],
      "source": [
        "# test dataset\n",
        "images = []\n",
        "labels = []\n",
        "for subset in os.listdir(test_dir):\n",
        "  image_list = os.listdir(os.path.join(test_dir,subset))  # all the names of images in the directory\n",
        "  image_list = list(map(lambda x:os.path.join(subset,x),image_list))\n",
        "  images.extend(image_list)\n",
        "  labels.extend([subset]*len(image_list)) \n",
        "\n",
        "df = pd.DataFrame({\"Images\":images,\"Labels\":labels})      \n",
        "df = df.sample(frac=1).reset_index(drop=True) # To shuffle the data \n",
        "samplesize = int(int(df.size)/14)  # sample size used for modelling\n",
        "print(samplesize)\n",
        "df_test = df.head(samplesize) "
      ]
    },
    {
      "cell_type": "code",
      "execution_count": 17,
      "metadata": {
        "colab": {
          "base_uri": "https://localhost:8080/"
        },
        "id": "iyEZTNBbIXC6",
        "outputId": "113343e3-5ca9-4b6a-a46f-0d5ee4e41faf"
      },
      "outputs": [
        {
          "output_type": "stream",
          "name": "stdout",
          "text": [
            "Found 1009 validated image filenames.\n"
          ]
        }
      ],
      "source": [
        "test_datagen=ImageDataGenerator(rescale=1./255.)\n",
        "test_generator = test_datagen.flow_from_dataframe(\n",
        "    directory = test_dir, \n",
        "    target_size=(48,48), \n",
        "    #class_mode=\"categorical\", \n",
        "    class_mode=None,\n",
        "    shuffle=False,\n",
        "    color_mode=\"grayscale\",\n",
        "    dataframe = df_test,\n",
        "    x_col=\"Images\",\n",
        "    y_col=\"Labels\",\n",
        "    batch_size=32,\n",
        "    seed=42,\n",
        ")"
      ]
    },
    {
      "cell_type": "code",
      "execution_count": 18,
      "metadata": {
        "id": "I3k8q7JAI6Vh"
      },
      "outputs": [],
      "source": [
        "model= tf.keras.models.Sequential()\n",
        "\n",
        "model.add(Conv2D(32, kernel_size=(3, 3), padding='same', activation='relu', input_shape=(48, 48,1)))\n",
        "model.add(Conv2D(64,(3,3), padding='same', activation='relu' ))\n",
        "model.add(BatchNormalization())\n",
        "model.add(MaxPool2D(pool_size=(2, 2)))\n",
        "model.add(Dropout(0.25))\n",
        "\n",
        "model.add(Conv2D(128,(5,5), padding='same', activation='relu'))\n",
        "model.add(BatchNormalization())\n",
        "model.add(MaxPool2D(pool_size=(2, 2)))\n",
        "model.add(Dropout(0.25))\n",
        "\n",
        "model.add(Flatten())\n",
        "\n",
        "model.add(Flatten()) \n",
        "model.add(Dense(256,activation = 'relu'))\n",
        "model.add(BatchNormalization())\n",
        "model.add(Dropout(0.25))\n",
        "    \n",
        "model.add(Dense(512,activation = 'relu'))\n",
        "model.add(BatchNormalization())\n",
        "model.add(Dropout(0.25))\n",
        "\n",
        "model.add(Dense(6, activation='softmax'))\n",
        "\n",
        "\n",
        "model.compile(\n",
        "    optimizer = Adam(), \n",
        "    loss='categorical_crossentropy', \n",
        "    metrics=['accuracy']\n",
        "  )"
      ]
    },
    {
      "cell_type": "code",
      "execution_count": 19,
      "metadata": {
        "colab": {
          "base_uri": "https://localhost:8080/"
        },
        "id": "YtSoHZYXKUf7",
        "outputId": "4519ae51-b8d2-4fe5-daeb-7452715fb64e"
      },
      "outputs": [
        {
          "output_type": "stream",
          "name": "stderr",
          "text": [
            "<ipython-input-19-ab8a583d4c63>:4: UserWarning: `Model.fit_generator` is deprecated and will be removed in a future version. Please use `Model.fit`, which supports generators.\n",
            "  firstModel = model.fit_generator(generator=train_generator,\n"
          ]
        },
        {
          "output_type": "stream",
          "name": "stdout",
          "text": [
            "Epoch 1/10\n",
            "94/94 [==============================] - 101s 1s/step - loss: 2.2691 - accuracy: 0.2215 - val_loss: 5.0816 - val_accuracy: 0.1875\n",
            "Epoch 2/10\n",
            "94/94 [==============================] - 96s 1s/step - loss: 1.9098 - accuracy: 0.2982 - val_loss: 7.4967 - val_accuracy: 0.1875\n",
            "Epoch 3/10\n",
            "94/94 [==============================] - 98s 1s/step - loss: 1.7247 - accuracy: 0.3659 - val_loss: 7.2841 - val_accuracy: 0.1885\n",
            "Epoch 4/10\n",
            "94/94 [==============================] - 101s 1s/step - loss: 1.6494 - accuracy: 0.3879 - val_loss: 4.5029 - val_accuracy: 0.1028\n",
            "Epoch 5/10\n",
            "94/94 [==============================] - 99s 1s/step - loss: 1.4847 - accuracy: 0.4443 - val_loss: 4.5781 - val_accuracy: 0.1603\n",
            "Epoch 6/10\n",
            "94/94 [==============================] - 96s 1s/step - loss: 1.3620 - accuracy: 0.4940 - val_loss: 1.8595 - val_accuracy: 0.2560\n",
            "Epoch 7/10\n",
            "94/94 [==============================] - 98s 1s/step - loss: 1.1905 - accuracy: 0.5537 - val_loss: 1.7374 - val_accuracy: 0.3236\n",
            "Epoch 8/10\n",
            "94/94 [==============================] - 100s 1s/step - loss: 1.0307 - accuracy: 0.6074 - val_loss: 1.9336 - val_accuracy: 0.4345\n",
            "Epoch 9/10\n",
            "94/94 [==============================] - 97s 1s/step - loss: 0.8245 - accuracy: 0.6945 - val_loss: 1.9911 - val_accuracy: 0.3891\n",
            "Epoch 10/10\n",
            "94/94 [==============================] - 98s 1s/step - loss: 0.6619 - accuracy: 0.7512 - val_loss: 1.9999 - val_accuracy: 0.4143\n"
          ]
        }
      ],
      "source": [
        "STEP_SIZE_TRAIN=train_generator.n//train_generator.batch_size\n",
        "STEP_SIZE_VALID=valid_generator.n//valid_generator.batch_size\n",
        "STEP_SIZE_TEST=test_generator.n//test_generator.batch_size\n",
        "firstModel = model.fit_generator(generator=train_generator,\n",
        "                    steps_per_epoch=STEP_SIZE_TRAIN,\n",
        "                    validation_data=valid_generator,\n",
        "                    validation_steps=STEP_SIZE_VALID,\n",
        "                    epochs=10\n",
        ")"
      ]
    },
    {
      "cell_type": "code",
      "execution_count": 22,
      "metadata": {
        "id": "7g0UaQifJkDv",
        "outputId": "41f5a0b7-3453-404c-9619-1ede3bd14835",
        "colab": {
          "base_uri": "https://localhost:8080/",
          "height": 404
        }
      },
      "outputs": [
        {
          "output_type": "display_data",
          "data": {
            "text/plain": [
              "<Figure size 1152x432 with 2 Axes>"
            ],
            "image/png": "[encoded data removed]"
          },
          "metadata": {
            "needs_background": "light"
          }
        }
      ],
      "source": [
        "figure, axis = plt.subplots(1,2)\n",
        "figure.set_size_inches(16,6)\n",
        "\n",
        "train_ACC = firstModel.history['accuracy']\n",
        "train_loss = firstModel.history['loss']\n",
        "\n",
        "axis[0].plot(firstModel.history['accuracy'], color = \"green\")\n",
        "axis[0].plot(firstModel.history['val_accuracy'])\n",
        "axis[0].set_xlabel('Number of Epochs')\n",
        "axis[0].set_ylabel('Accuracy values')\n",
        "axis[0].set_title('Training against Validation Accuracy')\n",
        "axis[0].legend(['Train', 'Test'], loc = 'lower left')\n",
        "\n",
        "axis[1].plot(firstModel.history['loss'], color = \"green\")\n",
        "axis[1].plot(firstModel.history['val_loss'])\n",
        "axis[1].set_title('Training against Validation Loss')\n",
        "axis[1].set_xlabel('Number of Epochs')\n",
        "axis[1].set_ylabel('Loss Values')\n",
        "axis[1].set_title('Training against Validation Loss')\n",
        "axis[1].legend(['Train', 'Test'], loc ='lower left')\n",
        "\n",
        "plt.show()"
      ]
    },
    {
      "cell_type": "code",
      "execution_count": 23,
      "metadata": {
        "colab": {
          "base_uri": "https://localhost:8080/"
        },
        "id": "fF7NZ2RoZJ9h",
        "outputId": "cda4209a-1bb6-44c8-cd46-221095f32ef7"
      },
      "outputs": [
        {
          "output_type": "stream",
          "name": "stderr",
          "text": [
            "<ipython-input-23-95b67568bf3e>:1: UserWarning: `Model.evaluate_generator` is deprecated and will be removed in a future version. Please use `Model.evaluate`, which supports generators.\n",
            "  model.evaluate_generator(generator=valid_generator,\n"
          ]
        },
        {
          "output_type": "execute_result",
          "data": {
            "text/plain": [
              "[1.9857758283615112, 0.41633063554763794]"
            ]
          },
          "metadata": {},
          "execution_count": 23
        }
      ],
      "source": [
        "model.evaluate_generator(generator=valid_generator,\n",
        "steps=STEP_SIZE_TEST)"
      ]
    },
    {
      "cell_type": "code",
      "execution_count": 28,
      "metadata": {
        "colab": {
          "base_uri": "https://localhost:8080/"
        },
        "id": "Sd2s1Xw0ZJ9h",
        "outputId": "be1b42d6-ba42-497b-e888-ad63bb2eac09"
      },
      "outputs": [
        {
          "output_type": "stream",
          "name": "stdout",
          "text": [
            "31/31 [==============================] - 10s 310ms/step\n"
          ]
        }
      ],
      "source": [
        "test_generator.reset()\n",
        "pred=model.predict(test_generator, steps=STEP_SIZE_TEST)"
      ]
    },
    {
      "cell_type": "code",
      "execution_count": 29,
      "metadata": {
        "id": "gSBjOZaUZJ9h"
      },
      "outputs": [],
      "source": [
        "predicted_class_indices=np.argmax(pred,axis=1)"
      ]
    },
    {
      "cell_type": "code",
      "execution_count": 30,
      "metadata": {
        "id": "Xjy6z5uDZJ9i"
      },
      "outputs": [],
      "source": [
        "labels = (train_generator.class_indices)\n",
        "labels = dict((v,k) for k,v in labels.items())\n",
        "predictions = [labels[k] for k in predicted_class_indices]\n"
      ]
    },
    {
      "cell_type": "code",
      "execution_count": 32,
      "metadata": {
        "id": "FKbQY4gRJkDw",
        "outputId": "297a77c2-b6fa-46e7-ddd3-44bc50474b6e",
        "colab": {
          "base_uri": "https://localhost:8080/"
        }
      },
      "outputs": [
        {
          "output_type": "stream",
          "name": "stdout",
          "text": [
            "95/95 [==============================] - 26s 267ms/step - loss: 0.4650 - accuracy: 0.8383\n",
            "32/32 [==============================] - 8s 238ms/step - loss: 1.9989 - accuracy: 0.4153\n",
            "The train accuracy = 83.828 , test accuracy = 41.526\n"
          ]
        }
      ],
      "source": [
        "train_loss, train_ACC = model.evaluate(train_generator)\n",
        "test_loss, test_ACC   = model.evaluate(valid_generator)\n",
        "print(\"The train accuracy = {:.3f} , test accuracy = {:.3f}\".format(train_ACC*100, test_ACC*100))"
      ]
    },
    {
      "cell_type": "markdown",
      "metadata": {
        "id": "ivV4V1J6ZJ9i"
      },
      "source": [
        "##### Applying the model on a random image to test it."
      ]
    },
    {
      "cell_type": "code",
      "execution_count": 40,
      "metadata": {
        "colab": {
          "base_uri": "https://localhost:8080/",
          "height": 285
        },
        "id": "Yml9m0X7ZJ9i",
        "outputId": "a3f0e42f-7295-4e8e-d6e7-c2256e930a87"
      },
      "outputs": [
        {
          "output_type": "execute_result",
          "data": {
            "text/plain": [
              "<matplotlib.image.AxesImage at 0x7f898ade3d30>"
            ]
          },
          "metadata": {},
          "execution_count": 40
        },
        {
          "output_type": "display_data",
          "data": {
            "text/plain": [
              "<Figure size 432x288 with 1 Axes>"
            ],
            "image/png": "[encoded data removed]"
          },
          "metadata": {
            "needs_background": "light"
          }
        }
      ],
      "source": [
        "img = image.load_img(\"./test/angry/PrivateTest_10304478.jpg\", target_size = (48,48), color_mode = \"grayscale\")\n",
        "img = np.array(img)\n",
        "plt.imshow(img)"
      ]
    },
    {
      "cell_type": "code",
      "execution_count": 41,
      "metadata": {
        "id": "U9f6gxGCZJ9i"
      },
      "outputs": [],
      "source": [
        "label_dict = {0:'Angry',1:'Fear',2:'Happy',3:'Neutral',4:'Sad',5:'Surprise'}\n"
      ]
    },
    {
      "cell_type": "code",
      "execution_count": 42,
      "metadata": {
        "colab": {
          "base_uri": "https://localhost:8080/"
        },
        "id": "dQRstssYZJ9i",
        "outputId": "6c6c919c-c3b4-41bd-993d-62d767449042"
      },
      "outputs": [
        {
          "output_type": "stream",
          "name": "stdout",
          "text": [
            "1/1 [==============================] - 0s 37ms/step\n",
            "[0.0, 0.0, 0.0, 0.0, 0.0, 1.0]\n"
          ]
        }
      ],
      "source": [
        "img = np.expand_dims(img,axis = 0) #makes image shape (1,48,48)\n",
        "img = img.reshape(1,48,48,1)\n",
        "result = model.predict(img)\n",
        "result = list(result[0])\n",
        "print(result)"
      ]
    },
    {
      "cell_type": "code",
      "execution_count": 43,
      "metadata": {
        "colab": {
          "base_uri": "https://localhost:8080/"
        },
        "id": "0dQpPMrLZJ9j",
        "outputId": "761095e8-d55b-49e5-e6b2-445f8c9152f9"
      },
      "outputs": [
        {
          "output_type": "stream",
          "name": "stdout",
          "text": [
            "Surprise\n"
          ]
        }
      ],
      "source": [
        "img_index = result.index(max(result))\n",
        "print(label_dict[img_index])\n",
        "plt.show()"
      ]
    }
  ],
  "metadata": {
    "colab": {
      "provenance": []
    },
    "deepnote": {},
    "deepnote_execution_queue": [],
    "deepnote_notebook_id": "8c609fc51da64249a4ade41d421b458e",
    "gpuClass": "standard",
    "kernelspec": {
      "display_name": "Python 3 (ipykernel)",
      "language": "python",
      "name": "python3"
    },
    "language_info": {
      "codemirror_mode": {
        "name": "ipython",
        "version": 3
      },
      "file_extension": ".py",
      "mimetype": "text/x-python",
      "name": "python",
      "nbconvert_exporter": "python",
      "pygments_lexer": "ipython3",
      "version": "3.8.2"
    },
    "vscode": {
      "interpreter": {
        "hash": "b4d8ba3e21a74479d48e0b424dac0941c0b3239a2a834547b1a91c8926050b3b"
      }
    }
  },
  "nbformat": 4,
  "nbformat_minor": 0
}